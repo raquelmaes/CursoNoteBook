{
  "nbformat": 4,
  "nbformat_minor": 0,
  "metadata": {
    "colab": {
      "provenance": [],
      "collapsed_sections": [],
      "toc_visible": true
    },
    "kernelspec": {
      "name": "python3",
      "display_name": "Python 3"
    },
    "language_info": {
      "name": "python"
    }
  },
  "cells": [
    {
      "cell_type": "markdown",
      "source": [
        "#**Fase de Diseño**"
      ],
      "metadata": {
        "id": "lqgBvfSQF0RF"
      }
    },
    {
      "cell_type": "markdown",
      "source": [
        "\n",
        "**¿Cómo se pueden aplicar los notebooks a la asignatura?**\n",
        "\n",
        "*   Sería para utilizar phyton para realizar bioestadística en personas no técnicas.\n",
        "*   La idea sería aplicar técnicas de phyton sencillas para enseñarles estadística\n",
        "\n",
        "\n",
        "**¿Qué recursos interactivos se pueden embeber en los notebooks? **\n",
        "\n",
        "*   Podrían aadirse vídeos de expliación estadística y luego los comandos estadísticos y la explicación.\n",
        "*   \n",
        "\n",
        "\n",
        "**¿Qué ejemplos y ejercicios se pueden plantear?**\n",
        "\n",
        "*   Se podrían plantear ejercicios de estadística orientados a la ejecución de comandos en phyton.\n",
        "\n",
        "\n",
        "# **Instalación, configuración y puesta en marcha de Jupyter Notebook/Lab.**\n",
        "Como va orientado a alumnos no tecnológicos, se promueve el uso de google colab para ser un inicio sencillo y sin tener que realizar instalación previa.\n",
        "\n",
        "# **Creación de Notebook básico**\n"
      ],
      "metadata": {
        "id": "zciGz5MBF2DR"
      }
    },
    {
      "cell_type": "markdown",
      "metadata": {
        "id": "ZTKAKSBFe9HJ"
      },
      "source": [
        "# Lesson 1. Population and Sample"
      ]
    },
    {
      "cell_type": "markdown",
      "metadata": {
        "id": "6z1a93-ur5vT"
      },
      "source": [
        "**Biostatistics** (also known as biometry) are the development and application of statistical methods to a wide range of topics in biology. It encompasses the design of biological experiments, the collection and analysis of data from those experiments and the interpretation of the results."
      ]
    },
    {
      "cell_type": "markdown",
      "metadata": {
        "id": "VZNApdJJurYw"
      },
      "source": [
        "For a better understanding of the examples we will explain some of the basic concepts of statistics."
      ]
    },
    {
      "cell_type": "markdown",
      "metadata": {
        "id": "wGRvVfTnfF8A"
      },
      "source": [
        "# 1.1. Concepts"
      ]
    },
    {
      "cell_type": "markdown",
      "metadata": {
        "id": "3svYrnw6g4D1"
      },
      "source": [
        "**Sample**: A subset of elements of the population is known as a sample. The number of elements in the sample is called the sample size. This is very common because a lot of times we cannot examine all the elements of the population so we extract random items from the population.  "
      ]
    },
    {
      "cell_type": "markdown",
      "metadata": {
        "id": "75C1VNRng9wq"
      },
      "source": [
        "We will see below that for the results of our statistical study to be reliable it is necessary that the sample has a **minimum size**."
      ]
    },
    {
      "cell_type": "markdown",
      "metadata": {
        "id": "c6mlhli6hC99"
      },
      "source": [
        "**Census**: the particular case of a sample that includes all elements of the population is known as a census."
      ]
    },
    {
      "cell_type": "markdown",
      "metadata": {
        "id": "opy5v0tBhR-4"
      },
      "source": [
        "**Sampling**: The technique for selecting a sample from a statistical population is known as sampling."
      ]
    },
    {
      "cell_type": "markdown",
      "metadata": {
        "id": "1afFponhhXiu"
      },
      "source": [
        "There are two methods for selecting samples of populations: non-probability or **judge- mental sampling and random sampling** (which incorporates chance as a resource in the selection process). The best sampling methods involve random sampling. There are many different methods of random sampling; the basic one is simple random sampling."
      ]
    },
    {
      "cell_type": "markdown",
      "metadata": {
        "id": "pK7YwTQIeMd5"
      },
      "source": [
        "**Example 1** A laboratory technician wants to inspect the number of test tubes to obtain information about the rate of defective tubes arriving at the laboratory each day. He decides to take a sample of 50 tubes in one day. Every day for five days, he takes the last ten tubes that arrived at the laboratory and counts the number of defects in each of them.\n",
        "This is not a simple random sample, as not every subset of 50 test tubes has the same probability of belonging to the sample. To form a simple random sample, the technician would need to assign a number to each tube arrived during the day and then generate random numbers to determine which tubes the sample is made up of."
      ]
    },
    {
      "cell_type": "markdown",
      "metadata": {
        "id": "3rTQveVKheqP"
      },
      "source": [
        "**Types of data**: When a numerical quantity is assigned to each element of a sample, the resulting set of values is called **numerical** or quantitative. In some cases, the elements of the sample are put into categories. The data are then **categorical** or qualitative."
      ]
    },
    {
      "cell_type": "markdown",
      "metadata": {
        "id": "ee1Wvsn8hmKI"
      },
      "source": [
        "The numerical summaries of a sample are called **statistics**, while the numerical summaries of a population are called **parameters**."
      ]
    },
    {
      "cell_type": "markdown",
      "metadata": {
        "id": "5kVG1tLak_nk"
      },
      "source": [
        "Obviously, in practice, the entire population is never observed, so the population parameters cannot be calculated directly. However, the sample statistics are used to calculate the values of the population parameters. The methods for calculating sample statistics require that the sample be finite. Therefore, when a population contains an infinite number of values, the methods for calculating the statistics of a sample cannot be applied to calculate the parameters of a population. For infinite populations, parameters are calculated with procedures that generalize the methods used to calculate the statistics of a sample and that involve infinite or integral sums"
      ]
    },
    {
      "cell_type": "markdown",
      "metadata": {
        "id": "DkZF55G2h2Vj"
      },
      "source": [
        "**Categorical Data**: When the elements or data of our sample are categorical or qualitative, either they are not numerical, or, even if they are so, they can be considered as categorical quantities, the statistical summaries we work with are their occurrence, or frequencies."
      ]
    },
    {
      "cell_type": "markdown",
      "metadata": {
        "id": "OG52lRIIiJo9"
      },
      "source": [
        "**Absolute Frequency**: We call the frequency (or absolute frequency) of an element in our sample the number of times it is repeated in the sample."
      ]
    },
    {
      "cell_type": "markdown",
      "metadata": {
        "id": "nrWBLRPBiS6X"
      },
      "source": [
        "**Relative Frequency**: We call relative frequency, $fi$, the quotient between the absolute frequency and the sample size."
      ]
    },
    {
      "cell_type": "markdown",
      "metadata": {
        "id": "TiaUYhRNiawr"
      },
      "source": [
        "**Cumulative Absolute Frequency**: We call cumulative absolute frequency the total of the absolute frequencies for all elements equal to or preceding a certain element."
      ]
    },
    {
      "cell_type": "markdown",
      "metadata": {
        "id": "X0kfdqUWini6"
      },
      "source": [
        "**Cumulative Relative Frequency**: We call cumulative relative frequency the quotient between the cumula- tive absolute frequency and the total of the sample."
      ]
    },
    {
      "cell_type": "markdown",
      "metadata": {
        "id": "euNz0bj5fJpR"
      },
      "source": [
        "# 1.2. Examples"
      ]
    },
    {
      "cell_type": "markdown",
      "metadata": {
        "id": "dSY4u8kCnyGR"
      },
      "source": [
        "Let us consider the score obtained from a test:"
      ]
    },
    {
      "cell_type": "markdown",
      "metadata": {
        "id": "KyureXI7ohRL"
      },
      "source": [
        "In this code we are initializing a python list to an array of integer numbers with the values of the test."
      ]
    },
    {
      "cell_type": "code",
      "metadata": {
        "id": "rDhT4CGLffkX"
      },
      "source": [
        "scores_array = [68 , 84 , 75 , 82 , 68 , 90 , 62 , 88 , 76,93, 73,79,88,73,60,93,71,59,\n",
        "85 , 75 , 61 , 65 , 75 , 87 , 74 , 62 , 95 , 78 , 63\n",
        ", 72 , 66 , 78 , 82 , 75 , 94 , 77 , 69 , 74 , 68 , 60 ,\n",
        "96 , 78 , 89 , 61 , 75 , 95 , 60 , 79 , 83 , 71 , 79 , 62 , 67 , 97 , 78 , 85 , 76 , 65 , 71 , 75 ,\n",
        "65 , 80 , 73 , 57 , 88 , 78 , 62 , 76 , 53 , 74 ,\n",
        "86 , 67 , 73 , 81 , 72 , 63 , 76 , 75 , 85 , 77]"
      ],
      "execution_count": null,
      "outputs": []
    },
    {
      "cell_type": "markdown",
      "metadata": {
        "id": "vNybIqs7oAu2"
      },
      "source": [
        "According to these scores, find: \n",
        "1. The highest score.\n",
        "2. The lowest score.\n",
        "3. The range.\n",
        "4. The five best scores.\n",
        "5. The five worst scores.\n",
        "6. The score of the tenth highest ranked respondent.\n",
        "7. The number of respondents who scored 75 or more.\n",
        "8. The number of respondents who scored 85 or less.\n",
        "9. The percentage of respondents who scored more than 65 but not more than 85.\n",
        "10. The scores that do not appear in this table."
      ]
    },
    {
      "cell_type": "markdown",
      "metadata": {
        "id": "wPNZDBZ4JW_j"
      },
      "source": [
        "## Example 1. The highest and lowest scores"
      ]
    },
    {
      "cell_type": "markdown",
      "metadata": {
        "id": "wthJwZ8wE1YL"
      },
      "source": [
        "By using the *max* function we get the highest value of the array."
      ]
    },
    {
      "cell_type": "code",
      "metadata": {
        "id": "Xi_KtosnEqj2"
      },
      "source": [
        "print('Max: ', max(scores_array))"
      ],
      "execution_count": null,
      "outputs": []
    },
    {
      "cell_type": "markdown",
      "metadata": {
        "id": "a_pqTgDAsE4p"
      },
      "source": [
        "By using the *min* function we get the lowest value of the array."
      ]
    },
    {
      "cell_type": "code",
      "metadata": {
        "id": "g97oHcC8sFGX"
      },
      "source": [
        "print('Min: ', min(scores_array))"
      ],
      "execution_count": null,
      "outputs": []
    },
    {
      "cell_type": "markdown",
      "metadata": {
        "id": "DsfVMbXaJ8bm"
      },
      "source": [
        "## Example 2. The range"
      ]
    },
    {
      "cell_type": "markdown",
      "metadata": {
        "id": "V1rwzAOqtC_p"
      },
      "source": [
        "We get the answers to the first three questions: The highest score is 97, the lowest is 53, and the range will be 97-53=44. To answer the next three questions, we only need to sort the list."
      ]
    },
    {
      "cell_type": "markdown",
      "metadata": {
        "id": "Mef7zMEJKbj0"
      },
      "source": [
        "## Example 3. The five best and worst scores\n"
      ]
    },
    {
      "cell_type": "code",
      "metadata": {
        "id": "vSk9X91htTFA"
      },
      "source": [
        "sorted_scores = scores_array.copy()\n",
        "sorted_scores.sort()"
      ],
      "execution_count": null,
      "outputs": []
    },
    {
      "cell_type": "markdown",
      "metadata": {
        "id": "sW4XFp9cxCEL"
      },
      "source": [
        "In this code we initialized a new python list \"sorted_scores\" with the values of the previous list \"scores_array\" by using the method *copy*.\n",
        "\n",
        "Then we use the method *sort* to sort the values of the python list. It could take more arguments to specify how to sort, but we are fine with the default.\n",
        "\n"
      ]
    },
    {
      "cell_type": "markdown",
      "metadata": {
        "id": "c7T_SsTwGiRF"
      },
      "source": [
        "Now that the array is sorted (starting from the lower values to the greater ones) we just need to read the **last five** to get the **five best** scores and the **first five** to get the **five worst** scores."
      ]
    },
    {
      "cell_type": "code",
      "metadata": {
        "id": "FBCnGy1SFRnV"
      },
      "source": [
        "# We initialize a variable that is equal to the length of our sorted scores array\n",
        "length = len(sorted_scores)\n",
        "# The positions are from the length of the array minus 5 to the length of the array\n",
        "print('The best five scores: ', sorted_scores[length-5:length])"
      ],
      "execution_count": null,
      "outputs": []
    },
    {
      "cell_type": "markdown",
      "metadata": {
        "id": "f2yiVtjso5GU"
      },
      "source": [
        "With the ':' character we can get a set of values that match the range specified inside the brackets. Remember that it counts the position 0."
      ]
    },
    {
      "cell_type": "code",
      "metadata": {
        "id": "4Do0FMJ0FVQv"
      },
      "source": [
        "# The first five scores are the worst five scores\n",
        "print('The worst five scores: ', sorted_scores[0:5])"
      ],
      "execution_count": null,
      "outputs": []
    },
    {
      "cell_type": "markdown",
      "metadata": {
        "id": "GBl4kXwIIEBO"
      },
      "source": [
        "The position [0] in the *sorted_scores* array is 53 and the position [4] is 60"
      ]
    },
    {
      "cell_type": "markdown",
      "metadata": {
        "id": "1tcIomMmFAD3"
      },
      "source": [
        "## Example 4. The score of the tenth highest ranked respondent"
      ]
    },
    {
      "cell_type": "code",
      "metadata": {
        "id": "gooMiiX_FXWu"
      },
      "source": [
        "# Takes the last position minus 10 to access the tenth last score\n",
        "print('Tenth best score: ', sorted_scores[length-10])"
      ],
      "execution_count": null,
      "outputs": []
    },
    {
      "cell_type": "markdown",
      "metadata": {
        "id": "FsXY-stdKA1V"
      },
      "source": [
        "The length is 80 so the position that it access is [70] (88). Because it takes in count the position [0] the position [80] doesnt exist:"
      ]
    },
    {
      "cell_type": "code",
      "metadata": {
        "id": "R_iOoNK3K0PK"
      },
      "source": [
        "# This is an intended error, uncomment it to try it\n",
        "# print(sorted_scores[length])"
      ],
      "execution_count": null,
      "outputs": []
    },
    {
      "cell_type": "markdown",
      "metadata": {
        "id": "2KQ86zTAtAXI"
      },
      "source": [
        "Here is an **example** with a reduced list to simplify:"
      ]
    },
    {
      "cell_type": "code",
      "metadata": {
        "id": "cAURHL7xrr1O"
      },
      "source": [
        "test = [0,1,2,3,4]\n",
        "# It takes the first five items starting from the position 0\n",
        "print(test[0:len(test)])\n",
        "print(test[0:5])\n",
        "# Takes the last position (4)\n",
        "print('Last: ', test[len(test)-1])\n",
        "# Takes the first position (0)\n",
        "print('First: ', test[len(test)-5])\n",
        "# You can see that it doesnt reach the last position specified in the range\n",
        "print('Range with one [0,1): ', test[0:1])\n",
        "# Because it doesnt reach that last position, if you specify the interval\n",
        "# within the same position it will be an empty interval\n",
        "print('Range with none [0,0): ', test[0:0])\n",
        "print('Range with none [1,1): ', test[1:1])"
      ],
      "execution_count": null,
      "outputs": []
    },
    {
      "cell_type": "markdown",
      "metadata": {
        "id": "rXZsMdats4k1"
      },
      "source": [
        "Note that the answers do not take into account whether the question \"The five best scores\" refers to the different scores or simply to the values of these; so we see the value 95 repeated. If we want to know the answers to these questions, without repeated values, then we must first know which different values appear in the scores. This answer is provided by the same procedure that we use in answering the following questions. To answer the next question we need to know the absolute and cumulative frequency. table():"
      ]
    },
    {
      "cell_type": "markdown",
      "metadata": {
        "id": "ktXRYaspUZv_"
      },
      "source": [
        "## Example 5. The number of respondents who scored 75 or more"
      ]
    },
    {
      "cell_type": "code",
      "metadata": {
        "id": "uNV2uicLuXHQ"
      },
      "source": [
        "import pandas as pd\n",
        "# We create the special pandas array with the items from the sorted scores\n",
        "df = pd.Series(sorted_scores)\n",
        "# We specify to sort the series with sort=True and to order the array with the method sort_index\n",
        "t = df.value_counts().sort_index()\n",
        "t"
      ],
      "execution_count": null,
      "outputs": []
    },
    {
      "cell_type": "markdown",
      "metadata": {
        "id": "8BCmTxnArm8J"
      },
      "source": [
        "We can now answer the above questions without repeating the values:"
      ]
    },
    {
      "cell_type": "code",
      "metadata": {
        "id": "rPKsxr6ItFoG"
      },
      "source": [
        "# Top Five Scores\n",
        "print(t[:5].index)\n",
        "# The five worst scores\n",
        "print(t[-5:].index)\n",
        "# The score in tenth place among the best\n",
        "print(t[-10:].index[0])"
      ],
      "execution_count": null,
      "outputs": []
    },
    {
      "cell_type": "markdown",
      "source": [
        "#Almacenamiento de un Notebook en un repositiorio\n",
        "\n",
        "Dirección del notebook público\n",
        "\n",
        "#Publicación del notebook implementado con Binder\n",
        "\n",
        "Dirección del notebook implementado con Binder"
      ],
      "metadata": {
        "id": "6wE_h1IoKe55"
      }
    }
  ]
}